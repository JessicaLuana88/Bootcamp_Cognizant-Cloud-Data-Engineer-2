{
  "nbformat": 4,
  "nbformat_minor": 0,
  "metadata": {
    "colab": {
      "name": "Untitled1.ipynb",
      "provenance": [],
      "authorship_tag": "ABX9TyMS4FflaQsaieiGutodApWU",
      "include_colab_link": true
    },
    "kernelspec": {
      "name": "python3",
      "display_name": "Python 3"
    },
    "language_info": {
      "name": "python"
    }
  },
  "cells": [
    {
      "cell_type": "markdown",
      "metadata": {
        "id": "view-in-github",
        "colab_type": "text"
      },
      "source": [
        "<a href=\"https://colab.research.google.com/github/JessicaLuana88/Bootcamp_Cognizant-Cloud-Data-Engineer-2/blob/main/Introdu%C3%A7%C3%A3o%20%C3%A0%20programa%C3%A7%C3%A3o%20com%20Python%20O%20que%20s%C3%A3o%20vari%C3%A1veis%20e%20como%20manipul%C3%A1-las%20atrav%C3%A9s%20de%20operadores%20aritm%C3%A9ticos%20e%20intera%C3%A7%C3%A3o%20com%20usu%C3%A1rio.ipynb\" target=\"_parent\"><img src=\"https://colab.research.google.com/assets/colab-badge.svg\" alt=\"Open In Colab\"/></a>"
      ]
    },
    {
      "cell_type": "code",
      "execution_count": null,
      "metadata": {
        "id": "LOu19_0HLVKk"
      },
      "outputs": [],
      "source": [
        ""
      ]
    }
  ]
}